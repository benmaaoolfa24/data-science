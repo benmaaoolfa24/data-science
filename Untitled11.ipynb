{
  "nbformat": 4,
  "nbformat_minor": 0,
  "metadata": {
    "colab": {
      "provenance": [],
      "include_colab_link": true
    },
    "kernelspec": {
      "name": "python3",
      "display_name": "Python 3"
    },
    "language_info": {
      "name": "python"
    }
  },
  "cells": [
    {
      "cell_type": "markdown",
      "metadata": {
        "id": "view-in-github",
        "colab_type": "text"
      },
      "source": [
        "<a href=\"https://colab.research.google.com/github/benmaaoolfa24/data-science/blob/main/Untitled11.ipynb\" target=\"_parent\"><img src=\"https://colab.research.google.com/assets/colab-badge.svg\" alt=\"Open In Colab\"/></a>"
      ]
    },
    {
      "cell_type": "code",
      "execution_count": null,
      "metadata": {
        "id": "CScxcwmFHo8Z",
        "outputId": "c7c4a30a-8a2e-4463-a79c-fbeba8539330",
        "colab": {
          "base_uri": "https://localhost:8080/"
        }
      },
      "outputs": [
        {
          "output_type": "stream",
          "name": "stdout",
          "text": [
            "dentrées de test [[1.000e+00 6.000e+01 3.500e+01 3.600e+03 2.100e+03 1.225e+03]\n",
            " [1.000e+00 4.500e+01 2.000e+01 2.025e+03 9.000e+02 4.000e+02]]\n",
            "données predites [6500. 5000.]\n",
            "données de test  [6500 5000]\n"
          ]
        }
      ],
      "source": [
        "import numpy as np\n",
        "import pandas as pd\n",
        "import matplotlib.pyplot as plt\n",
        "from sklearn.model_selection import train_test_split\n",
        "from sklearn.linear_model import LinearRegression\n",
        "from sklearn.preprocessing import PolynomialFeatures\n",
        "from sklearn.metrics import mean_squared_error\n",
        "\n",
        "data = pd.DataFrame({\n",
        "\n",
        "     \"Age\":[20,30,35,40,45,50,55,60,65] ,\n",
        "     \"Expérience\":[1,5,10,15,20,25,30,35,40],\n",
        "     \"Salaire\":[3000,3500,4000,4500,5000,5500,6000,6500,7000]\n",
        "\n",
        "})\n",
        "#varibales indépendantes == entrée = Age +exprience\n",
        "#variables dépendantes : salaire\n",
        "x=data[['Age','Expérience']]\n",
        "y=data['Salaire']\n",
        "#diviser les données en des données de training et des données de test\n",
        "x_train, x_test, y_train, y_test = train_test_split(x, y, test_size=0.2, random_state=40)\n",
        "\n",
        "#transformation des données avec des termes quadratique (degree=2)\n",
        "poly=PolynomialFeatures(degree=2)\n",
        "#transformation+ajustement pour les données de training\n",
        "x_train_pol=poly.fit_transform(x_train)\n",
        "#transformation seulement pour les données de test\n",
        "x_test_pol=poly.transform(x_test)\n",
        "#entrainement sur les des donnes transformés\n",
        "model = LinearRegression()\n",
        "model.fit(x_train_pol,y_train)\n",
        "#prediction\n",
        "y_pred=model.predict(x_test_pol)\n",
        "print(\"dentrées de test\",x_test_pol)\n",
        "print(\"données predites\" ,y_pred)\n",
        "\n",
        "print(\"données de test \" ,y_test.values)\n",
        "\n",
        "\n",
        "\n"
      ]
    }
  ]
}